{
  "nbformat": 4,
  "nbformat_minor": 0,
  "metadata": {
    "orig_nbformat": 2,
    "colab": {
      "name": "unet.ipynb",
      "provenance": []
    },
    "kernelspec": {
      "name": "python3",
      "display_name": "Python 3"
    },
    "accelerator": "GPU"
  },
  "cells": [
    {
      "cell_type": "code",
      "metadata": {
        "id": "URZi1e8xJ0PF",
        "colab_type": "code",
        "colab": {
          "base_uri": "https://localhost:8080/",
          "height": 69
        },
        "outputId": "3359adde-29e4-4f34-d349-c2aefa34a448"
      },
      "source": [
        "!curl -O https://static.miglix.eu/data/dataset_BRATS.hdf5"
      ],
      "execution_count": 3,
      "outputs": [
        {
          "output_type": "stream",
          "text": [
            "  % Total    % Received % Xferd  Average Speed   Time    Time     Time  Current\n",
            "                                 Dload  Upload   Total   Spent    Left  Speed\n",
            "100 12.4G  100 12.4G    0     0  19.6M      0  0:10:47  0:10:47 --:--:-- 20.0M\n"
          ],
          "name": "stdout"
        }
      ]
    },
    {
      "cell_type": "code",
      "metadata": {
        "id": "xp_XVA1AJ0Pk",
        "colab_type": "code",
        "colab": {
          "base_uri": "https://localhost:8080/",
          "height": 69
        },
        "outputId": "4e7254ff-3cf9-4333-bce0-bc739a25f854"
      },
      "source": [
        "!curl -O https://static.miglix.eu/data/nonres-cp.pt"
      ],
      "execution_count": 10,
      "outputs": [
        {
          "output_type": "stream",
          "text": [
            "  % Total    % Received % Xferd  Average Speed   Time    Time     Time  Current\n",
            "                                 Dload  Upload   Total   Spent    Left  Speed\n",
            "100  355M  100  355M    0     0  17.3M      0  0:00:20  0:00:20 --:--:-- 20.4M\n"
          ],
          "name": "stdout"
        }
      ]
    },
    {
      "cell_type": "code",
      "metadata": {
        "id": "T3VtYj-tJ0P7",
        "colab_type": "code",
        "colab": {
          "base_uri": "https://localhost:8080/",
          "height": 139
        },
        "outputId": "dcfbe048-ca0e-4830-ab8f-0d20fd91bd96"
      },
      "source": [
        "!rm -rf brats-net\n",
        "!git clone https://github.com/hesiod/brats-net.git\n",
        "!rm -f model\n",
        "!ln -s brats-net/model ."
      ],
      "execution_count": 4,
      "outputs": [
        {
          "output_type": "stream",
          "text": [
            "Cloning into 'brats-net'...\n",
            "remote: Enumerating objects: 303, done.\u001b[K\n",
            "remote: Counting objects: 100% (303/303), done.\u001b[K\n",
            "remote: Compressing objects: 100% (190/190), done.\u001b[K\n",
            "remote: Total 303 (delta 191), reused 211 (delta 110), pack-reused 0\u001b[K\n",
            "Receiving objects: 100% (303/303), 142.65 KiB | 6.79 MiB/s, done.\n",
            "Resolving deltas: 100% (191/191), done.\n"
          ],
          "name": "stdout"
        }
      ]
    },
    {
      "cell_type": "code",
      "metadata": {
        "id": "KYKDT13nJ0QK",
        "colab_type": "code",
        "colab": {}
      },
      "source": [
        "import torch\n",
        "import torch.utils.data as td\n",
        "import torch.nn as nn\n",
        "from torch.utils.tensorboard import SummaryWriter\n",
        "import os\n",
        "from tqdm import tqdm, trange\n",
        "import argparse\n",
        "import datetime\n",
        "import json\n",
        "import jsonschema\n",
        "import matplotlib.pyplot as plt"
      ],
      "execution_count": 1,
      "outputs": []
    },
    {
      "cell_type": "code",
      "metadata": {
        "id": "JuS66CKEJ0Qd",
        "colab_type": "code",
        "colab": {}
      },
      "source": [
        "import model.brats_dataset\n",
        "import model.unet\n",
        "import model.res_unet\n",
        "import model.utils\n",
        "import model.metrics\n",
        "import model.loss"
      ],
      "execution_count": 2,
      "outputs": []
    },
    {
      "cell_type": "code",
      "metadata": {
        "id": "iNaHPuAfJ0Qo",
        "colab_type": "code",
        "colab": {}
      },
      "source": [
        "class Context:\n",
        "    def __init__(self, params, checkpoint_filename=None, criterion=None):\n",
        "        self.params = params\n",
        "\n",
        "        if params['model'] == 'UNet':\n",
        "            self.net = model.unet.Net(params['input_channels'])\n",
        "        elif params['model'] == 'UResNet':\n",
        "            self.net = model.res_unet.UResNet(params['input_channels'])\n",
        "        else:\n",
        "            print('unknown model \"{}\"'.format(params['model']))\n",
        "\n",
        "        self.device = model.utils.try_gpu()\n",
        "        print('Using device {}'.format(self.device))\n",
        "        self.net.to(self.device)\n",
        "\n",
        "        if params['optimizer'] == 'AdamW':\n",
        "            self.optimizer = torch.optim.AdamW(\n",
        "                self.net.parameters(),\n",
        "                lr=self.params['lr'],\n",
        "                weight_decay=params['adam_weight_decay']\n",
        "            )\n",
        "        elif params['optimizer'] == 'SGD':\n",
        "            self.optimizer = torch.optim.SGD(\n",
        "                self.net.parameters(),\n",
        "                lr=self.params['lr'],\n",
        "                weight_decay=params['sgd_weight_decay'],\n",
        "                momentum=params['sgd_momentum']\n",
        "            )\n",
        "        else:\n",
        "            print('unknown optimizer \"{}\"'.format(params['optimizer']))\n",
        "\n",
        "        if params['scheduler'] == 'ReduceLROnPlateau':\n",
        "            self.scheduler = torch.optim.lr_scheduler.ReduceLROnPlateau(\n",
        "                self.optimizer,\n",
        "                'min',\n",
        "                patience=params['lr_scheduler_patience']\n",
        "            )\n",
        "        elif params['scheduler'] == 'CosineAnnealingWarmRestarts':\n",
        "            self.scheduler = torch.optim.lr_scheduler.CosineAnnealingWarmRestarts(\n",
        "                self.optimizer,\n",
        "                T_0=params['sgdr_initial_period'],\n",
        "                T_mult=params['sgdr_period_multiplier']\n",
        "            )\n",
        "        else:\n",
        "            print('unknown scheduler \"{}\"'.format(params['scheduler']))\n",
        "\n",
        "        if checkpoint_filename:\n",
        "            checkpoint = torch.load(checkpoint_filename)\n",
        "            self.net.load_state_dict(checkpoint['model'])\n",
        "            self.optimizer.load_state_dict(checkpoint['optimizer'])\n",
        "            self.scheduler.load_state_dict(checkpoint['scheduler'])\n",
        "            self.global_iter = checkpoint['global_iter']\n",
        "        else:\n",
        "            self.net.apply(model.unet.init_weights)\n",
        "            self.global_iter = 0\n",
        "\n",
        "        self.model_shape = (1, params['input_channels'], 240, 240)\n",
        "\n",
        "    def check_topology(self):\n",
        "        with torch.no_grad():\n",
        "            dummy_input = torch.empty(size=self.model_shape, dtype=torch.float32).to(self.device)\n",
        "            y = self.net(dummy_input)\n",
        "\n",
        "    def export_onnx(self, filename):\n",
        "        dummy_input = torch.empty(size=self.model_shape).to(self.device)\n",
        "        torch.onnx.export(self.net, dummy_input, filename, verbose=True)\n",
        "\n",
        "    def checkpoint_path(self):\n",
        "        if not os.path.exists('checkpoints'):\n",
        "            os.mkdir('checkpoints')\n",
        "        checkpoint_dir = os.path.join(\n",
        "            'checkpoints',\n",
        "            self.params['meta_name'],\n",
        "        )\n",
        "        checkpoint_path = os.path.join(\n",
        "            checkpoint_dir,\n",
        "            'checkpoint_{}.pt'.format(datetime.datetime.now().isoformat())\n",
        "        )\n",
        "        if not os.path.exists(checkpoint_dir):\n",
        "            os.mkdir(checkpoint_dir)\n",
        "        return checkpoint_path\n",
        "\n",
        "    def save_checkpoint(self):\n",
        "        state_dict = {\n",
        "            'model': self.net.state_dict(),\n",
        "            'optimizer': self.optimizer.state_dict(),\n",
        "            'scheduler': self.scheduler.state_dict(),\n",
        "            'global_iter': self.global_iter,\n",
        "            }\n",
        "        torch.save(state_dict, self.checkpoint_path())\n"
      ],
      "execution_count": 34,
      "outputs": []
    },
    {
      "cell_type": "code",
      "metadata": {
        "id": "GJB6KYznJ0Q0",
        "colab_type": "code",
        "colab": {}
      },
      "source": [
        "\n",
        "class TrainContext:\n",
        "    def __init__(self, context, dataset, criterion):\n",
        "        self.ctx = context\n",
        "        self.criterion = criterion\n",
        "\n",
        "        ds_size = len(dataset)\n",
        "        test_count = ds_size // 10\n",
        "        train_count = ds_size - test_count\n",
        "        test_indices = torch.arange(start=0, end=test_count)\n",
        "        train_indices = torch.arange(start=test_count+1, end=ds_size-1)\n",
        "        self.train_dataset = td.Subset(dataset, indices=train_indices)\n",
        "        self.test_dataset  = td.Subset(dataset, indices=test_indices)\n",
        "\n",
        "        log_dir = os.path.join(\n",
        "            'runs',\n",
        "            self.ctx.params['meta_name'],\n",
        "        )\n",
        "        log_path = os.path.join(\n",
        "            log_dir,\n",
        "            'run_{}'.format(datetime.datetime.now().isoformat()),\n",
        "        )\n",
        "        if not os.path.exists('runs'):\n",
        "            os.mkdir('runs')\n",
        "        if not os.path.exists(log_dir):\n",
        "            os.mkdir(log_dir)\n",
        "        print('Writing Tensorboard logs to {}'.format(log_path))\n",
        "        self.writer = SummaryWriter(log_path)\n",
        "\n",
        "        print('Writing graph')\n",
        "        dummy_input = torch.empty(size=self.ctx.model_shape, dtype=torch.float32).to(self.ctx.device)\n",
        "        self.writer.add_graph(self.ctx.net, dummy_input)\n",
        "        del dummy_input\n",
        "        print('done')\n",
        "\n",
        "    def run(self, num_epochs):\n",
        "        t = trange(num_epochs, desc='epoch', position=0)\n",
        "        for epoch in t:\n",
        "            train_loss_epoch, test_loss_epoch = self.run_epoch(epoch)\n",
        "            t.write('epoch {}/{}, train loss {}, test loss {}'.format(\n",
        "                epoch + 1,\n",
        "                num_epochs,\n",
        "                train_loss_epoch,\n",
        "                test_loss_epoch\n",
        "            ))\n",
        "\n",
        "\n",
        "    def run_epoch(self, epoch):\n",
        "        epoch_train_dataset = model.brats_dataset.RandomSubset(\n",
        "            self.train_dataset,\n",
        "            params['epoch_size']\n",
        "        )\n",
        "        epoch_test_dataset = model.brats_dataset.RandomSubset(\n",
        "            self.test_dataset,\n",
        "            params['epoch_size']\n",
        "        )\n",
        "        train_iter = td.DataLoader(\n",
        "            epoch_train_dataset,\n",
        "            self.ctx.params['batch_size'],\n",
        "            shuffle=True,\n",
        "            num_workers=self.ctx.params['num_workers'],\n",
        "            pin_memory=True\n",
        "        )\n",
        "        test_iter = td.DataLoader(\n",
        "            epoch_test_dataset,\n",
        "            self.ctx.params['batch_size'],\n",
        "            shuffle=True,\n",
        "            num_workers=self.ctx.params['num_workers'],\n",
        "            pin_memory=True\n",
        "        )\n",
        "        \n",
        "        batch_count = len(train_iter)\n",
        "\n",
        "        # Training\n",
        "        self.ctx.net.train()\n",
        "        train_loss_epoch = 0.0\n",
        "        train_acc_epoch = 0.0\n",
        "        train_iter_count = len(train_iter)\n",
        "        t = tqdm(iterable=train_iter, desc='batch', position=1, leave=False)\n",
        "        for i, (X, y) in enumerate(t):\n",
        "            batch_loss, batch_acc = self.run_batch(X, y)\n",
        "            train_loss_epoch += batch_loss\n",
        "            train_acc_epoch += batch_acc\n",
        "            if self.ctx.params['scheduler'] == 'CosineAnnealingWarmRestarts':\n",
        "                self.ctx.scheduler.step(epoch + i / train_iter_count)\n",
        "            t.set_postfix({\n",
        "                'loss': batch_loss,\n",
        "                'acc': batch_acc,\n",
        "            })\n",
        "        train_loss_epoch /= batch_count\n",
        "        train_acc_epoch /= batch_count\n",
        "        t.close()\n",
        "\n",
        "        self.writer.add_scalar('accuracy/train', train_acc_epoch, self.ctx.global_iter)\n",
        "        self.writer.add_scalar('loss/train', train_loss_epoch, self.ctx.global_iter)\n",
        "\n",
        "        # Evaluating\n",
        "        self.ctx.net.eval()\n",
        "        test_loss_epoch = 0.0\n",
        "        test_acc_epoch = 0.0\n",
        "        with torch.no_grad():\n",
        "            t = tqdm(iterable=test_iter, desc='test', position=1, leave=False)\n",
        "            for X_test, y_test in t:\n",
        "                X_test = X_test.float().to(self.ctx.device)\n",
        "                y_test = y_test.float().to(self.ctx.device).clamp(0., 1.)\n",
        "                y_test_hat = self.ctx.net(X_test).squeeze(1)\n",
        "                y_test_hat_sig = torch.sigmoid(y_test_hat) > 0.5\n",
        "                batch_loss = self.criterion(y_test_hat, y_test).item()\n",
        "                batch_acc = model.metrics.jaccard(y_test_hat_sig, y_test)\n",
        "                test_loss_epoch += batch_loss\n",
        "                test_acc_epoch += batch_acc\n",
        "                t.set_postfix({\n",
        "                    'loss': batch_loss,\n",
        "                    'acc': batch_acc,\n",
        "                })\n",
        "            test_loss_epoch /= len(test_iter)\n",
        "            test_acc_epoch /= len(test_iter)\n",
        "            t.close()\n",
        "            if self.ctx.params['scheduler'] == 'ReduceLROnPlateau':\n",
        "                self.ctx.scheduler.step(test_loss_epoch)\n",
        "\n",
        "        self.writer.add_scalar('accuracy/test', test_acc_epoch, self.ctx.global_iter)\n",
        "        self.writer.add_scalar('loss/test', test_loss_epoch, self.ctx.global_iter)\n",
        "        self.writer.flush()\n",
        "\n",
        "        self.ctx.save_checkpoint()\n",
        "\n",
        "        return train_loss_epoch, test_loss_epoch\n",
        "\n",
        "\n",
        "    def run_batch(self, X, y):\n",
        "        self.ctx.global_iter += 1\n",
        "\n",
        "        X = X.float().to(self.ctx.device)\n",
        "        y = y.float().to(self.ctx.device).clamp(0., 1.)\n",
        "        y_hat = self.ctx.net(X).squeeze(1)\n",
        "        y_us = y.unsqueeze(1)\n",
        "        y_hat_us = y_hat.unsqueeze(1)\n",
        "        y_hat_us_sig = torch.sigmoid(y_hat_us) # > 0.5\n",
        "\n",
        "        # Accuracy metric\n",
        "        acc = model.metrics.jaccard(y_hat_us_sig > 0.5, y_us)\n",
        "\n",
        "        # Loss metrics\n",
        "        l = self.criterion(y_hat, y)\n",
        "\n",
        "        self.ctx.optimizer.zero_grad()\n",
        "        l.backward()\n",
        "        nn.utils.clip_grad_value_(self.ctx.net.parameters(), params['gradient_clip_value'])\n",
        "        self.ctx.optimizer.step()\n",
        "\n",
        "        for tag, value in self.ctx.net.named_parameters():\n",
        "            tag = tag.replace('.', '/')\n",
        "            self.writer.add_histogram('weights/' + tag, value.data.cpu().numpy(), self.ctx.global_iter)\n",
        "            self.writer.add_histogram('grads/' + tag, value.grad.data.cpu().numpy(), self.ctx.global_iter)\n",
        "\n",
        "        self.writer.add_scalar('batch/accuracy', acc, self.ctx.global_iter)\n",
        "        self.writer.add_scalar('batch/loss', l.item(), self.ctx.global_iter)\n",
        "\n",
        "        self.writer.add_images('masks/0_base', X[:, 0:3, :, :], self.ctx.global_iter)\n",
        "        self.writer.add_images('masks/1_true', y_us, self.ctx.global_iter)\n",
        "        self.writer.add_images('masks/2_predicted', y_hat_us_sig, self.ctx.global_iter)\n",
        "        self.writer.add_images('masks/3_predicted_sig', y_hat_us_sig > 0.5, self.ctx.global_iter)\n",
        "        self.writer.add_images('extra/raw', y_hat_us, self.ctx.global_iter)\n",
        "        overlaid = torch.cat([y_hat_us_sig.float(), y_us, torch.zeros_like(y_us)], dim=1)\n",
        "        self.writer.add_images('extra/overlaid', overlaid, self.ctx.global_iter)\n",
        "\n",
        "        for idx, group in enumerate(self.ctx.optimizer.param_groups):\n",
        "            self.writer.add_scalar('meta/lr/group_{}'.format(idx + 1), group['lr'], self.ctx.global_iter)\n",
        "\n",
        "        self.writer.flush()\n",
        "\n",
        "        return l.item(), acc\n"
      ],
      "execution_count": 31,
      "outputs": []
    },
    {
      "cell_type": "code",
      "metadata": {
        "id": "vtzUnlykJ0Q7",
        "colab_type": "code",
        "colab": {}
      },
      "source": [
        "params = {\n",
        "    'meta_name' : 'brats4',\n",
        "    'model': 'UNet',\n",
        "    'input_channels': 4,\n",
        "    'gradient_clip_value': 10.0,\n",
        "    'batch_size' : 4,\n",
        "    'epoch_size': 40,\n",
        "    'num_workers' : 2,\n",
        "    'num_epochs' : 1,\n",
        "    'lr' : 1e-2,\n",
        "    'optimizer': 'AdamW',\n",
        "    'sgd_momentum': 0.95,\n",
        "    'sgd_weight_decay': 1e-7,\n",
        "    'adam_weight_decay': 1e-4,\n",
        "    'lr_scheduler_patience': 4,\n",
        "    'scheduler': 'CosineAnnealingWarmRestarts',\n",
        "    'sgdr_initial_period': 10,\n",
        "    'sgdr_period_multiplier': 2\n",
        "}\n"
      ],
      "execution_count": 24,
      "outputs": []
    },
    {
      "cell_type": "code",
      "metadata": {
        "id": "Q2EndkxcJ0RC",
        "colab_type": "code",
        "colab": {
          "base_uri": "https://localhost:8080/",
          "height": 34
        },
        "outputId": "15a0be02-915f-4517-d6c1-9c7b2a0f97a9"
      },
      "source": [
        "dctx = model.brats_dataset.BRATS('dataset_BRATS.hdf5')"
      ],
      "execution_count": 6,
      "outputs": [
        {
          "output_type": "stream",
          "text": [
            "100%|██████████| 484/484 [00:00<00:00, 10725.31it/s]\n"
          ],
          "name": "stderr"
        }
      ]
    },
    {
      "cell_type": "code",
      "metadata": {
        "id": "FL4hGA-5J0RK",
        "colab_type": "code",
        "colab": {
          "base_uri": "https://localhost:8080/",
          "height": 34
        },
        "outputId": "e19d9c34-7210-4987-bffa-8b384f225a49"
      },
      "source": [
        "ctx = Context(params, 'nonres-cp.pt')\n",
        "\n",
        "# Check whether layer inputs/outputs dimensions are correct\n",
        "# by conducting a test run\n",
        "ctx.check_topology()"
      ],
      "execution_count": 35,
      "outputs": [
        {
          "output_type": "stream",
          "text": [
            "Using device cuda:0\n"
          ],
          "name": "stdout"
        }
      ]
    },
    {
      "cell_type": "code",
      "metadata": {
        "id": "k1MsrAMOJ0RT",
        "colab_type": "code",
        "colab": {
          "base_uri": "https://localhost:8080/",
          "height": 1000
        },
        "outputId": "16fc1528-931c-4c06-c680-56a4f11214b3"
      },
      "source": [
        "pos_weight = torch.Tensor([5.0]).to(ctx.device)\n",
        "criterion = model.loss.Loss(pos_weight)\n",
        "\n",
        "tctx = TrainContext(ctx, dctx, criterion=criterion)\n",
        "\n",
        "tctx.run(params['num_epochs'])"
      ],
      "execution_count": 36,
      "outputs": [
        {
          "output_type": "stream",
          "text": [
            "Writing Tensorboard logs to runs/brats4/run_2020-07-30T19:50:06.922729\n",
            "Writing graph\n"
          ],
          "name": "stdout"
        },
        {
          "output_type": "stream",
          "text": [
            "epoch:   0%|          | 0/1 [00:00<?, ?it/s]\n",
            "batch:   0%|          | 0/39 [00:00<?, ?it/s]\u001b[A"
          ],
          "name": "stderr"
        },
        {
          "output_type": "stream",
          "text": [
            "done\n"
          ],
          "name": "stdout"
        },
        {
          "output_type": "stream",
          "text": [
            "\n",
            "batch:   0%|          | 0/39 [00:06<?, ?it/s, loss=0.4, acc=0.715]\u001b[A\n",
            "batch:   3%|▎         | 1/39 [00:06<04:09,  6.56s/it, loss=0.4, acc=0.715]\u001b[A\n",
            "batch:   3%|▎         | 1/39 [00:12<04:09,  6.56s/it, loss=0.339, acc=0.678]\u001b[A\n",
            "batch:   5%|▌         | 2/39 [00:12<03:57,  6.41s/it, loss=0.339, acc=0.678]\u001b[A\n",
            "batch:   5%|▌         | 2/39 [00:18<03:57,  6.41s/it, loss=1.32, acc=0.00139]\u001b[A\n",
            "batch:   8%|▊         | 3/39 [00:18<03:48,  6.34s/it, loss=1.32, acc=0.00139]\u001b[A\n",
            "batch:   8%|▊         | 3/39 [00:24<03:48,  6.34s/it, loss=1.84, acc=0.000158]\u001b[A\n",
            "batch:  10%|█         | 4/39 [00:24<03:39,  6.26s/it, loss=1.84, acc=0.000158]\u001b[A\n",
            "batch:  10%|█         | 4/39 [00:30<03:39,  6.26s/it, loss=1.12, acc=0.705]   \u001b[A\n",
            "batch:  13%|█▎        | 5/39 [00:30<03:30,  6.19s/it, loss=1.12, acc=0.705]\u001b[A\n",
            "batch:  13%|█▎        | 5/39 [00:36<03:30,  6.19s/it, loss=1.04, acc=0.102]\u001b[A\n",
            "batch:  15%|█▌        | 6/39 [00:36<03:22,  6.15s/it, loss=1.04, acc=0.102]\u001b[A\n",
            "batch:  15%|█▌        | 6/39 [00:42<03:22,  6.15s/it, loss=1.11, acc=0.032]\u001b[A\n",
            "batch:  18%|█▊        | 7/39 [00:42<03:14,  6.08s/it, loss=1.11, acc=0.032]\u001b[A\n",
            "batch:  18%|█▊        | 7/39 [00:48<03:14,  6.08s/it, loss=1.07, acc=0]    \u001b[A\n",
            "batch:  21%|██        | 8/39 [00:48<03:07,  6.06s/it, loss=1.07, acc=0]\u001b[A\n",
            "batch:  21%|██        | 8/39 [00:54<03:07,  6.06s/it, loss=1.06, acc=0.0119]\u001b[A\n",
            "batch:  23%|██▎       | 9/39 [00:54<03:00,  6.01s/it, loss=1.06, acc=0.0119]\u001b[A\n",
            "batch:  23%|██▎       | 9/39 [01:00<03:00,  6.01s/it, loss=1.21, acc=0]     \u001b[A\n",
            "batch:  26%|██▌       | 10/39 [01:00<02:54,  6.01s/it, loss=1.21, acc=0]\u001b[A\n",
            "batch:  26%|██▌       | 10/39 [01:06<02:54,  6.01s/it, loss=0.977, acc=0]\u001b[A\n",
            "batch:  28%|██▊       | 11/39 [01:06<02:47,  5.99s/it, loss=0.977, acc=0]\u001b[A\n",
            "batch:  28%|██▊       | 11/39 [01:12<02:47,  5.99s/it, loss=1.12, acc=0.0579]\u001b[A\n",
            "batch:  31%|███       | 12/39 [01:12<02:41,  5.98s/it, loss=1.12, acc=0.0579]\u001b[A\n",
            "batch:  31%|███       | 12/39 [01:18<02:41,  5.98s/it, loss=1.18, acc=0.0622]\u001b[A\n",
            "batch:  33%|███▎      | 13/39 [01:18<02:35,  5.99s/it, loss=1.18, acc=0.0622]\u001b[A\n",
            "batch:  33%|███▎      | 13/39 [01:24<02:35,  5.99s/it, loss=1.22, acc=0.0413]\u001b[A\n",
            "batch:  36%|███▌      | 14/39 [01:24<02:30,  6.01s/it, loss=1.22, acc=0.0413]\u001b[A\n",
            "batch:  36%|███▌      | 14/39 [01:30<02:30,  6.01s/it, loss=1, acc=0.129]    \u001b[A\n",
            "batch:  38%|███▊      | 15/39 [01:30<02:24,  6.03s/it, loss=1, acc=0.129]\u001b[A\n",
            "batch:  38%|███▊      | 15/39 [01:36<02:24,  6.03s/it, loss=1.07, acc=0] \u001b[A\n",
            "batch:  41%|████      | 16/39 [01:36<02:19,  6.05s/it, loss=1.07, acc=0]\u001b[A\n",
            "batch:  41%|████      | 16/39 [01:42<02:19,  6.05s/it, loss=0.943, acc=0.000651]\u001b[A\n",
            "batch:  44%|████▎     | 17/39 [01:43<02:13,  6.06s/it, loss=0.943, acc=0.000651]\u001b[A\n",
            "batch:  44%|████▎     | 17/39 [01:48<02:13,  6.06s/it, loss=0.938, acc=0.385]   \u001b[A\n",
            "batch:  46%|████▌     | 18/39 [01:48<02:06,  6.03s/it, loss=0.938, acc=0.385]\u001b[A\n",
            "batch:  46%|████▌     | 18/39 [01:54<02:06,  6.03s/it, loss=0.544, acc=0.622]\u001b[A\n",
            "batch:  49%|████▊     | 19/39 [01:55<02:00,  6.03s/it, loss=0.544, acc=0.622]\u001b[A\n",
            "batch:  49%|████▊     | 19/39 [02:00<02:00,  6.03s/it, loss=1.04, acc=0.0652]\u001b[A\n",
            "batch:  51%|█████▏    | 20/39 [02:00<01:53,  6.00s/it, loss=1.04, acc=0.0652]\u001b[A\n",
            "batch:  51%|█████▏    | 20/39 [02:06<01:53,  6.00s/it, loss=0.621, acc=0.424]\u001b[A\n",
            "batch:  54%|█████▍    | 21/39 [02:06<01:47,  5.96s/it, loss=0.621, acc=0.424]\u001b[A\n",
            "batch:  54%|█████▍    | 21/39 [02:12<01:47,  5.96s/it, loss=0.278, acc=0.712]\u001b[A\n",
            "batch:  56%|█████▋    | 22/39 [02:12<01:41,  5.96s/it, loss=0.278, acc=0.712]\u001b[A\n",
            "batch:  56%|█████▋    | 22/39 [02:18<01:41,  5.96s/it, loss=0.395, acc=0.782]\u001b[A\n",
            "batch:  59%|█████▉    | 23/39 [02:18<01:35,  5.97s/it, loss=0.395, acc=0.782]\u001b[A\n",
            "batch:  59%|█████▉    | 23/39 [02:24<01:35,  5.97s/it, loss=0.979, acc=0.0655]\u001b[A\n",
            "batch:  62%|██████▏   | 24/39 [02:24<01:29,  5.95s/it, loss=0.979, acc=0.0655]\u001b[A\n",
            "batch:  62%|██████▏   | 24/39 [02:30<01:29,  5.95s/it, loss=0.631, acc=0.372] \u001b[A\n",
            "batch:  64%|██████▍   | 25/39 [02:30<01:23,  5.94s/it, loss=0.631, acc=0.372]\u001b[A\n",
            "batch:  64%|██████▍   | 25/39 [02:36<01:23,  5.94s/it, loss=0.92, acc=0.0644]\u001b[A\n",
            "batch:  67%|██████▋   | 26/39 [02:36<01:17,  5.95s/it, loss=0.92, acc=0.0644]\u001b[A\n",
            "batch:  67%|██████▋   | 26/39 [02:42<01:17,  5.95s/it, loss=1.42, acc=0.268] \u001b[A\n",
            "batch:  69%|██████▉   | 27/39 [02:42<01:11,  5.96s/it, loss=1.42, acc=0.268]\u001b[A\n",
            "batch:  69%|██████▉   | 27/39 [02:48<01:11,  5.96s/it, loss=1.27, acc=0.34] \u001b[A\n",
            "batch:  72%|███████▏  | 28/39 [02:48<01:05,  5.99s/it, loss=1.27, acc=0.34]\u001b[A\n",
            "batch:  72%|███████▏  | 28/39 [02:54<01:05,  5.99s/it, loss=1.19, acc=0.0752]\u001b[A\n",
            "batch:  74%|███████▍  | 29/39 [02:54<00:59,  5.96s/it, loss=1.19, acc=0.0752]\u001b[A\n",
            "batch:  74%|███████▍  | 29/39 [03:00<00:59,  5.96s/it, loss=0.467, acc=0.46] \u001b[A\n",
            "batch:  77%|███████▋  | 30/39 [03:00<00:53,  5.94s/it, loss=0.467, acc=0.46]\u001b[A\n",
            "batch:  77%|███████▋  | 30/39 [03:06<00:53,  5.94s/it, loss=0.569, acc=0.481]\u001b[A\n",
            "batch:  79%|███████▉  | 31/39 [03:06<00:47,  5.91s/it, loss=0.569, acc=0.481]\u001b[A\n",
            "batch:  79%|███████▉  | 31/39 [03:12<00:47,  5.91s/it, loss=1.2, acc=0.248]  \u001b[A\n",
            "batch:  82%|████████▏ | 32/39 [03:12<00:41,  5.91s/it, loss=1.2, acc=0.248]\u001b[A\n",
            "batch:  82%|████████▏ | 32/39 [03:18<00:41,  5.91s/it, loss=0.244, acc=0.75]\u001b[A\n",
            "batch:  85%|████████▍ | 33/39 [03:18<00:35,  5.93s/it, loss=0.244, acc=0.75]\u001b[A\n",
            "batch:  85%|████████▍ | 33/39 [03:24<00:35,  5.93s/it, loss=0.267, acc=0.854]\u001b[A\n",
            "batch:  87%|████████▋ | 34/39 [03:24<00:29,  5.93s/it, loss=0.267, acc=0.854]\u001b[A\n",
            "batch:  87%|████████▋ | 34/39 [03:29<00:29,  5.93s/it, loss=0.434, acc=0.786]\u001b[A\n",
            "batch:  90%|████████▉ | 35/39 [03:29<00:23,  5.92s/it, loss=0.434, acc=0.786]\u001b[A\n",
            "batch:  90%|████████▉ | 35/39 [03:35<00:23,  5.92s/it, loss=0.363, acc=0.658]\u001b[A\n",
            "batch:  92%|█████████▏| 36/39 [03:35<00:17,  5.93s/it, loss=0.363, acc=0.658]\u001b[A\n",
            "batch:  92%|█████████▏| 36/39 [03:41<00:17,  5.93s/it, loss=1.09, acc=0.00135]\u001b[A\n",
            "batch:  95%|█████████▍| 37/39 [03:41<00:11,  5.94s/it, loss=1.09, acc=0.00135]\u001b[A\n",
            "batch:  95%|█████████▍| 37/39 [03:47<00:11,  5.94s/it, loss=1.13, acc=0.485]  \u001b[A\n",
            "batch:  97%|█████████▋| 38/39 [03:47<00:05,  5.93s/it, loss=1.13, acc=0.485]\u001b[A\n",
            "batch:  97%|█████████▋| 38/39 [03:53<00:05,  5.93s/it, loss=0.903, acc=0.169]\u001b[A\n",
            "batch: 100%|██████████| 39/39 [03:53<00:00,  5.93s/it, loss=0.903, acc=0.169]\u001b[A\n",
            "                                                                             \u001b[A\n",
            "test:   0%|          | 0/39 [00:00<?, ?it/s]\u001b[A\n",
            "test:   0%|          | 0/39 [00:00<?, ?it/s, loss=0.3, acc=0.773]\u001b[A\n",
            "test:   3%|▎         | 1/39 [00:00<00:12,  3.06it/s, loss=0.3, acc=0.773]\u001b[A\n",
            "test:   3%|▎         | 1/39 [00:00<00:12,  3.06it/s, loss=0.773, acc=0.275]\u001b[A\n",
            "test:   3%|▎         | 1/39 [00:00<00:12,  3.06it/s, loss=0.912, acc=0.342]\u001b[A\n",
            "test:   8%|▊         | 3/39 [00:00<00:08,  4.03it/s, loss=0.912, acc=0.342]\u001b[A\n",
            "test:   8%|▊         | 3/39 [00:00<00:08,  4.03it/s, loss=0.372, acc=0.825]\u001b[A\n",
            "test:   8%|▊         | 3/39 [00:00<00:08,  4.03it/s, loss=1.04, acc=0.00939]\u001b[A\n",
            "test:   8%|▊         | 3/39 [00:00<00:08,  4.03it/s, loss=0.992, acc=0.123] \u001b[A\n",
            "test:  15%|█▌        | 6/39 [00:00<00:06,  5.39it/s, loss=0.992, acc=0.123]\u001b[A\n",
            "test:  15%|█▌        | 6/39 [00:00<00:06,  5.39it/s, loss=0.213, acc=0.83] \u001b[A\n",
            "test:  15%|█▌        | 6/39 [00:00<00:06,  5.39it/s, loss=0.687, acc=0.259]\u001b[A\n",
            "test:  21%|██        | 8/39 [00:00<00:04,  6.73it/s, loss=0.687, acc=0.259]\u001b[A\n",
            "test:  21%|██        | 8/39 [00:00<00:04,  6.73it/s, loss=0.262, acc=0.845]\u001b[A\n",
            "test:  21%|██        | 8/39 [00:00<00:04,  6.73it/s, loss=0.446, acc=0.701]\u001b[A\n",
            "test:  26%|██▌       | 10/39 [00:00<00:03,  8.00it/s, loss=0.446, acc=0.701]\u001b[A\n",
            "test:  26%|██▌       | 10/39 [00:00<00:03,  8.00it/s, loss=0.139, acc=0.927]\u001b[A\n",
            "test:  26%|██▌       | 10/39 [00:00<00:03,  8.00it/s, loss=0.603, acc=0.445]\u001b[A\n",
            "test:  31%|███       | 12/39 [00:00<00:02,  9.50it/s, loss=0.603, acc=0.445]\u001b[A\n",
            "test:  31%|███       | 12/39 [00:01<00:02,  9.50it/s, loss=0.663, acc=0.399]\u001b[A\n",
            "test:  31%|███       | 12/39 [00:01<00:02,  9.50it/s, loss=0.237, acc=0.783]\u001b[A\n",
            "test:  36%|███▌      | 14/39 [00:01<00:02, 11.13it/s, loss=0.237, acc=0.783]\u001b[A\n",
            "test:  36%|███▌      | 14/39 [00:01<00:02, 11.13it/s, loss=1.21, acc=0.00206]\u001b[A\n",
            "test:  36%|███▌      | 14/39 [00:01<00:02, 11.13it/s, loss=0.244, acc=0.892] \u001b[A\n",
            "test:  36%|███▌      | 14/39 [00:01<00:02, 11.13it/s, loss=0.105, acc=0.935]\u001b[A\n",
            "test:  44%|████▎     | 17/39 [00:01<00:01, 12.44it/s, loss=0.105, acc=0.935]\u001b[A\n",
            "test:  44%|████▎     | 17/39 [00:01<00:01, 12.44it/s, loss=0.12, acc=0.946] \u001b[A\n",
            "test:  44%|████▎     | 17/39 [00:01<00:01, 12.44it/s, loss=0.801, acc=0.211]\u001b[A\n",
            "test:  44%|████▎     | 17/39 [00:01<00:01, 12.44it/s, loss=0.693, acc=0.304]\u001b[A\n",
            "test:  51%|█████▏    | 20/39 [00:01<00:01, 14.48it/s, loss=0.693, acc=0.304]\u001b[A\n",
            "test:  51%|█████▏    | 20/39 [00:01<00:01, 14.48it/s, loss=0.284, acc=0.719]\u001b[A\n",
            "test:  51%|█████▏    | 20/39 [00:01<00:01, 14.48it/s, loss=0.128, acc=0.925]\u001b[A\n",
            "test:  51%|█████▏    | 20/39 [00:01<00:01, 14.48it/s, loss=0.584, acc=0.411]\u001b[A\n",
            "test:  59%|█████▉    | 23/39 [00:01<00:00, 16.38it/s, loss=0.584, acc=0.411]\u001b[A\n",
            "test:  59%|█████▉    | 23/39 [00:01<00:00, 16.38it/s, loss=0.574, acc=0.417]\u001b[A\n",
            "test:  59%|█████▉    | 23/39 [00:01<00:00, 16.38it/s, loss=1.16, acc=0.057] \u001b[A\n",
            "test:  59%|█████▉    | 23/39 [00:01<00:00, 16.38it/s, loss=0.68, acc=0.317]\u001b[A\n",
            "test:  59%|█████▉    | 23/39 [00:01<00:00, 16.38it/s, loss=1.08, acc=0.0769]\u001b[A\n",
            "test:  69%|██████▉   | 27/39 [00:01<00:00, 19.12it/s, loss=1.08, acc=0.0769]\u001b[A\n",
            "test:  69%|██████▉   | 27/39 [00:01<00:00, 19.12it/s, loss=1.27, acc=0.0135]\u001b[A\n",
            "test:  69%|██████▉   | 27/39 [00:01<00:00, 19.12it/s, loss=0.201, acc=0.88] \u001b[A\n",
            "test:  69%|██████▉   | 27/39 [00:01<00:00, 19.12it/s, loss=0.997, acc=0.0791]\u001b[A\n",
            "test:  69%|██████▉   | 27/39 [00:01<00:00, 19.12it/s, loss=1.08, acc=0.0138] \u001b[A\n",
            "test:  79%|███████▉  | 31/39 [00:01<00:00, 21.58it/s, loss=1.08, acc=0.0138]\u001b[A\n",
            "test:  79%|███████▉  | 31/39 [00:01<00:00, 21.58it/s, loss=0.634, acc=0.485]\u001b[A\n",
            "test:  79%|███████▉  | 31/39 [00:01<00:00, 21.58it/s, loss=0.29, acc=0.819] \u001b[A\n",
            "test:  79%|███████▉  | 31/39 [00:01<00:00, 21.58it/s, loss=0.975, acc=0.143]\u001b[A\n",
            "test:  79%|███████▉  | 31/39 [00:01<00:00, 21.58it/s, loss=0.75, acc=0.36]  \u001b[A\n",
            "test:  90%|████████▉ | 35/39 [00:01<00:00, 24.28it/s, loss=0.75, acc=0.36]\u001b[A\n",
            "test:  90%|████████▉ | 35/39 [00:01<00:00, 24.28it/s, loss=0.253, acc=0.827]\u001b[A\n",
            "test:  90%|████████▉ | 35/39 [00:01<00:00, 24.28it/s, loss=0.187, acc=0.889]\u001b[A\n",
            "test:  90%|████████▉ | 35/39 [00:02<00:00, 24.28it/s, loss=1.81, acc=0.116] \u001b[A\n",
            "test:  97%|█████████▋| 38/39 [00:02<00:00, 21.55it/s, loss=1.81, acc=0.116]\u001b[A\n",
            "test:  97%|█████████▋| 38/39 [00:02<00:00, 21.55it/s, loss=0.274, acc=0.802]\u001b[A\n",
            "                                                                            \u001b[A\n",
            "\u001b[A\n",
            "\n",
            "batch:   0%|          | 0/39 [04:54<?, ?it/s]\u001b[A\n",
            "epoch: 100%|██████████| 1/1 [03:56<00:00, 236.65s/it]"
          ],
          "name": "stderr"
        },
        {
          "output_type": "stream",
          "text": [
            "epoch 1/1, train loss 0.8956602815634165, test loss 0.6158268619806339\n"
          ],
          "name": "stdout"
        },
        {
          "output_type": "stream",
          "text": [
            "\n"
          ],
          "name": "stderr"
        }
      ]
    },
    {
      "cell_type": "code",
      "metadata": {
        "id": "1aL_3K0sWJmU",
        "colab_type": "code",
        "colab": {}
      },
      "source": [
        "%matplotlib inline"
      ],
      "execution_count": 59,
      "outputs": []
    },
    {
      "cell_type": "code",
      "metadata": {
        "id": "fDQu9YIkSk-R",
        "colab_type": "code",
        "colab": {
          "base_uri": "https://localhost:8080/",
          "height": 1000
        },
        "outputId": "1eca17f0-eaf3-48f6-b634-49a6c90b0e52"
      },
      "source": [
        "def one(idx):\n",
        "  with torch.no_grad():\n",
        "    X, y = dctx[idx]\n",
        "    X = X.unsqueeze(0).float().to(ctx.device)\n",
        "    y = y.float().clamp(0., 1.)\n",
        "    y_hat_sig = torch.sigmoid(ctx.net(X)) > 0.5\n",
        "    y_hat = y_hat_sig.cpu().reshape(240, 240)\n",
        "  return y_hat, y\n",
        "\n",
        "def show(indices):\n",
        "  f, axarr = plt.subplots(len(indices), 2)\n",
        "  for i, idx in enumerate(indices):\n",
        "    y_hat, y = one(idx)\n",
        "    axarr[i, 0].imshow(y)\n",
        "    axarr[i, 1].imshow(y_hat)\n",
        "\n",
        "\n",
        "plt.rcParams[\"figure.figsize\"] = 10,20\n",
        "show_count = 4\n",
        "show(torch.randperm(len(dctx))[0:show_count-1])"
      ],
      "execution_count": 69,
      "outputs": [
        {
          "output_type": "display_data",
          "data": {
            "image/png": "[encoded data removed]",
            "text/plain": [
              "<Figure size 720x1440 with 6 Axes>"
            ]
          },
          "metadata": {
            "tags": [],
            "needs_background": "light"
          }
        }
      ]
    },
    {
      "cell_type": "code",
      "metadata": {
        "id": "ydFtFv0pJ0Rd",
        "colab_type": "code",
        "colab": {}
      },
      "source": [
        "ctx.export_onnx(\"net5.onnx\")"
      ],
      "execution_count": null,
      "outputs": []
    }
  ]
}